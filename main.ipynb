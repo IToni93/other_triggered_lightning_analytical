{
 "cells": [
  {
   "cell_type": "markdown",
   "metadata": {},
   "source": [
    "<b> Press run button in the toolbar to run each cell...  </b>\n",
    "\n",
    "# Scenario 1: In-cloud leader\n",
    "\n",
    "\n",
    "In the first scenario (Figure 1-i), a bidirectional in-cloud leader is initiated near the tower and develops horizontally with its negative end approaching the tower while its positive end stretches away from the tower. Note that the positive leader part is shorter in length compared to the negative part since the positive leader speed has been observed to be smaller than the negative leader speed. Such in-cloud leader could start to develop during a CG (cloud-to-ground) flash, or it can be a pure in-cloud flash.\n",
    "\n",
    "<img src=\"figs/scenario_1.jpg\" style=\"width: 400px;\" align=\"center\" />\n"
   ]
  },
  {
   "cell_type": "code",
   "execution_count": 1,
   "metadata": {},
   "outputs": [
    {
     "data": {
      "application/vnd.jupyter.widget-view+json": {
       "model_id": "6285d70247d640a48b9eab9a888869e2",
       "version_major": 2,
       "version_minor": 0
      },
      "text/plain": [
       "HBox(children=(FloatSlider(value=-0.5, description='λ [C/km]', max=-0.01, min=-2.0, orientation='vertical'), F…"
      ]
     },
     "metadata": {},
     "output_type": "display_data"
    },
    {
     "data": {
      "application/vnd.jupyter.widget-view+json": {
       "model_id": "1c1b5478ac3e4de4b836e31653f6905d",
       "version_major": 2,
       "version_minor": 0
      },
      "text/plain": [
       "Output()"
      ]
     },
     "metadata": {},
     "output_type": "display_data"
    }
   ],
   "source": [
    "from python_code import scenario_1\n",
    "from ipywidgets import interact\n",
    "from ipywidgets import widgets\n",
    "from ipywidgets import *\n",
    "# avoid numerical warnings handled in scenario_1.py script\n",
    "import warnings; warnings.simplefilter('ignore')\n",
    "    \n",
    "s_lamn = widgets.FloatSlider(min=-2,max=-0.01,step=0.1,value=-0.5,orientation='vertical',description='\\u03BB [C/km]')\n",
    "s_y = widgets.FloatSlider(min=0.01,max=10,step=0.1,value=2,orientation='vertical',description='y [km]')\n",
    "s_x0 = widgets.FloatSlider(min=-10,max=-0.01,step=0.1,value=-3,orientation='vertical', description='x0 [km]')\n",
    "s_v1 = widgets.FloatSlider(min=-10,max=-0.1,step=0.1,value=-2,orientation='vertical', description='Vp [*10^4 m/s]')\n",
    "s_v2 = widgets.FloatSlider(min=0.1,max=10,step=0.1,value=1,orientation='vertical', description='Vn [*10^5 m/s]')\n",
    "s_t_2d=widgets.FloatSlider(min=1,max=100,step=1,value=100,orientation='vertical', description='Time 2D [%]')\n",
    "\n",
    "ui = widgets.HBox([s_lamn,s_y,s_x0,s_v1,s_v2,s_t_2d])\n",
    "ui.layout.justify_content = 'space-around'\n",
    "\n",
    "def f(f_lamn,f_y,f_x0,f_v1,f_v2,f_t_2d):\n",
    "    # Default values (lamn=-0.5e-3,y=2e3,xp=0.0,yp=0.0,x0=-3e3,v1=-2e4,v2=1e5,lamp=None,duration=None,st=None,step_2d=0.03,t_2d_coef=1)\n",
    "    # By default lamp is obtained assumin zero net charge on the leader, duration is equal to time needed for \n",
    "    # negative leader to reach the (0,0) coordinate multiplied by two and default step is duration/1000\n",
    "    # Default values can be changed and will be overwritten if used in function below, e.g:\n",
    "    #scenarios.sc_1(lamn=f_lamn*1e-3,y=f_y*1e3,x0=f_x0*1e3,v1=f_v1*1e4,v2=f_v2*1e5,lamp=2e-3,duration=30e-3,st=0.002) \n",
    "    \n",
    "    scenario_1.sc_1(lamn=f_lamn*1e-3,y=f_y*1e3,x0=f_x0*1e3,v1=f_v1*1e4,v2=f_v2*1e5,t_2d_coef=f_t_2d/100)\n",
    "\n",
    "out = widgets.interactive_output(f, {'f_lamn': s_lamn, 'f_y': s_y, 'f_x0': s_x0,'f_v1': s_v1,'f_v2': s_v2,'f_t_2d':s_t_2d})\n",
    "\n",
    "display(ui, out)\n"
   ]
  },
  {
   "cell_type": "markdown",
   "metadata": {},
   "source": [
    "# Scenario 2: Positive leader approaching the ground\n",
    "\n",
    "In-cloud flash start in same manner as in scenario 1 and then at given time positive end of bidirectional leader veer towards the ground as shown in figure below. More details can be found in original paper.\n",
    "\n",
    "<img src=\"figs/scenario_2.jpg\" style=\"width: 400px;\" align=\"center\" />"
   ]
  },
  {
   "cell_type": "code",
   "execution_count": 2,
   "metadata": {},
   "outputs": [
    {
     "data": {
      "application/vnd.jupyter.widget-view+json": {
       "model_id": "83a90af286ec44e2af038ef388d55aea",
       "version_major": 2,
       "version_minor": 0
      },
      "text/plain": [
       "HBox(children=(FloatSlider(value=-0.5, description='λ [C/km]', max=-0.01, min=-2.0, orientation='vertical'), F…"
      ]
     },
     "metadata": {},
     "output_type": "display_data"
    },
    {
     "data": {
      "application/vnd.jupyter.widget-view+json": {
       "model_id": "9cecf30a0f5f4a2fbd2b4daa9243bb8b",
       "version_major": 2,
       "version_minor": 0
      },
      "text/plain": [
       "Output()"
      ]
     },
     "metadata": {},
     "output_type": "display_data"
    }
   ],
   "source": [
    "from python_code import scenario_2\n",
    "# For TD=100% same as scenario 1\n",
    "warnings.simplefilter('ignore')\n",
    "\n",
    "s_lamn_sc2 = widgets.FloatSlider(min=-2,max=-0.01,step=0.1,value=-0.5,orientation='vertical',description='\\u03BB [C/km]')\n",
    "s_y_sc2 = widgets.FloatSlider(min=0.01,max=10,step=0.1,value=2,orientation='vertical',description='y [km]')\n",
    "s_x0_sc2 = widgets.FloatSlider(min=-10,max=-0.01,step=0.1,value=-3,orientation='vertical', description='x0 [km]')\n",
    "s_v1_sc2 = widgets.FloatSlider(min=-10,max=-0.1,step=0.1,value=-2,orientation='vertical', description='Vp [*10^4 m/s]')\n",
    "s_v2_sc2 = widgets.FloatSlider(min=0.1,max=10,step=0.1,value=1,orientation='vertical', description='Vn [*10^5 m/s]')\n",
    "s_t_2d_sc2=widgets.FloatSlider(min=1,max=100,step=1,value=100,orientation='vertical', description='Time 2D [%]')\n",
    "s_TD_coef_sc2=widgets.FloatSlider(min=1,max=100,step=1,value=100/6,orientation='vertical', description='TD [%]')\n",
    "\n",
    "ui = widgets.HBox([s_lamn_sc2,s_y_sc2,s_x0_sc2,s_v1_sc2,s_v2_sc2,s_t_2d_sc2,s_TD_coef_sc2])\n",
    "ui.layout.justify_content = 'space-around'\n",
    "\n",
    "def f2(f_lamn,f_y,f_x0,f_v1,f_v2,f_t_2d,f_TD_coef):\n",
    "    # Default values (lamn=-0.5e-3,y=2e3,xp=0.0,yp=0.0,x0=-3e3,v1=-2e4,v2=1e5,lamp=None,duration=None,st=None,step_2d=0.03,t_2d_coef=1,TD_coef=1/6)\n",
    "    # By default lamp is obtained assumin zero net charge on the leader, duration is equal to time needed for \n",
    "    # negative leader to reach the (0,0) coordinate multiplied by two and default step is duration/1000\n",
    "    # Default values can be changed and will be overwritten if used in function below, e.g:\n",
    "    # scenarios.sc_1(lamn=f_lamn*1e-3,y=f_y*1e3,x0=f_x0*1e3,v1=f_v1*1e4,v2=f_v2*1e5,lamp=2e-3,duration=30e-3,st=0.002) \n",
    "    scenario_2.sc_2(lamn=f_lamn*1e-3,y=f_y*1e3,x0=f_x0*1e3,v1=f_v1*1e4,v2=f_v2*1e5,t_2d_coef=f_t_2d/100,TD_coef=f_TD_coef/100)\n",
    "\n",
    "out = widgets.interactive_output(f2, {'f_lamn': s_lamn_sc2, 'f_y': s_y_sc2, 'f_x0': s_x0_sc2,'f_v1': s_v1_sc2,'f_v2': s_v2_sc2,'f_t_2d':s_t_2d_sc2,'f_TD_coef':s_TD_coef_sc2})\n",
    "\n",
    "display(ui, out)"
   ]
  },
  {
   "cell_type": "markdown",
   "metadata": {},
   "source": [
    "# Scenario 3: Positive return stroke\n",
    "\n",
    "Positive return stroke. We assume that positive flash started with bidirectional in-cloud leader (as in Scenario 1) and that positive return stroke neutralize positive end of the leader. More details can be found in original paper.\n",
    "\n",
    "<img src=\"figs/scenario_3.jpg\" style=\"width: 400px;\" align=\"center\" />"
   ]
  },
  {
   "cell_type": "code",
   "execution_count": 3,
   "metadata": {},
   "outputs": [
    {
     "data": {
      "application/vnd.jupyter.widget-view+json": {
       "model_id": "92f01f627ac64eefbb918346d588d1aa",
       "version_major": 2,
       "version_minor": 0
      },
      "text/plain": [
       "HBox(children=(FloatSlider(value=2.5, description='λ [C/km]', max=10.0, min=0.5, orientation='vertical'), Floa…"
      ]
     },
     "metadata": {},
     "output_type": "display_data"
    },
    {
     "data": {
      "application/vnd.jupyter.widget-view+json": {
       "model_id": "43104d0683584a96b93a155b57ddbae9",
       "version_major": 2,
       "version_minor": 0
      },
      "text/plain": [
       "Output()"
      ]
     },
     "metadata": {},
     "output_type": "display_data"
    }
   ],
   "source": [
    "from python_code import scenario_3\n",
    "warnings.simplefilter('ignore')\n",
    "\n",
    "s_lamp_sc3 = widgets.FloatSlider(min=0.5,max=10,step=0.1,value=2.5,orientation='vertical',description='\\u03BB [C/km]')\n",
    "s_y_sc3 = widgets.FloatSlider(min=0.01,max=10,step=0.1,value=2,orientation='vertical',description='y [km]')\n",
    "s_x0_sc3 = widgets.FloatSlider(min=-10,max=0,step=0.1,value=0,orientation='vertical', description='x0 [km]')\n",
    "s_xrs_sc3 = widgets.FloatSlider(min=-10,max=0,step=0.1,value=-1,orientation='vertical', description='xrs [km]')\n",
    "s_vrs_sc3 = widgets.FloatSlider(min=0.5,max=3,step=0.1,value=0.9,orientation='vertical', description='Vrs [*10^8 m/s]')\n",
    "s_t_2d_sc3=widgets.FloatSlider(min=1,max=100,step=1,value=100,orientation='vertical', description='Time 2D [%]')\n",
    "\n",
    "\n",
    "ui = widgets.HBox([s_lamp_sc3,s_y_sc3,s_x0_sc3,s_xrs_sc3,s_vrs_sc3,s_t_2d_sc3])\n",
    "ui.layout.justify_content = 'space-around'\n",
    "\n",
    "def f3(f_lamp,f_y,f_x0,f_xrs,f_vrs,f_t_2d,f_TD_coef):\n",
    "    # Default values (lamp=2.5e-3,y=2e3,xp=0.0,yp=0.0,x0=0e3,xrs=-1e3,vrs=0.9e8,duration=None,st=None,step_2d=0.03,t_2d_coef=1)\n",
    "    # By default duration=(y+abs(x0-xrs))/vrs and default step is duration/1000\n",
    "    # Default values can be changed and will be overwritten\n",
    "    scenario_3.sc_3(lamp=f_lamp*1e-3,y=f_y*1e3,xp=0.0,yp=0.0,x0=f_x0*1e3,xrs=f_xrs*1e3,vrs=f_vrs*1e8,t_2d_coef=f_t_2d/100)\n",
    "\n",
    "out = widgets.interactive_output(f3, {'f_lamp': s_lamp_sc3, 'f_y': s_y_sc3, 'f_x0': s_x0_sc3, 'f_xrs': s_xrs_sc3,'f_vrs': s_vrs_sc3,'f_t_2d':s_t_2d_sc3,'f_TD_coef':s_TD_coef_sc2})\n",
    "\n",
    "display(ui, out)"
   ]
  },
  {
   "cell_type": "markdown",
   "metadata": {},
   "source": [
    "# Scenario 4: Developing horizontal leader during the continuous current phase\n",
    "\n",
    "During the continuous current phase, the horizontal part of the leader could extend in the direction of the tower as shown in figure below. More details can be found in original paper.\n",
    "\n",
    "<img src=\"figs/scenario_4.jpg\" style=\"width: 400px;\" align=\"center\" />"
   ]
  },
  {
   "cell_type": "code",
   "execution_count": 4,
   "metadata": {},
   "outputs": [
    {
     "data": {
      "application/vnd.jupyter.widget-view+json": {
       "model_id": "bc5f183976e54a3aa7c20bf3d582b9ff",
       "version_major": 2,
       "version_minor": 0
      },
      "text/plain": [
       "HBox(children=(FloatSlider(value=-0.5, description='λ [C/km]', max=-0.01, min=-2.0, orientation='vertical'), F…"
      ]
     },
     "metadata": {},
     "output_type": "display_data"
    },
    {
     "data": {
      "application/vnd.jupyter.widget-view+json": {
       "model_id": "ab0ede931ffa45d6a27c805a47fe7bde",
       "version_major": 2,
       "version_minor": 0
      },
      "text/plain": [
       "Output()"
      ]
     },
     "metadata": {},
     "output_type": "display_data"
    }
   ],
   "source": [
    "from python_code import scenario_4\n",
    "# Same as scenario 1 setting lamp=0 and v1=0\n",
    "warnings.simplefilter('ignore')\n",
    "\n",
    "    \n",
    "s_lamn_sc4 = widgets.FloatSlider(min=-2,max=-0.01,step=0.1,value=-0.5,orientation='vertical',description='\\u03BB [C/km]')\n",
    "s_y_sc4= widgets.FloatSlider(min=0.01,max=10,step=0.1,value=2,orientation='vertical',description='y [km]')\n",
    "s_x0_sc4= widgets.FloatSlider(min=-10,max=-0.01,step=0.1,value=-3,orientation='vertical', description='x0 [km]')\n",
    "s_v2_sc4 = widgets.FloatSlider(min=0.1,max=10,step=0.1,value=1,orientation='vertical', description='Vn [*10^5 m/s]')\n",
    "s_t_2d_sc4=widgets.FloatSlider(min=1,max=100,step=1,value=100,orientation='vertical', description='Time 2D [%]')\n",
    "\n",
    "ui = widgets.HBox([s_lamn_sc4,s_y_sc4,s_x0_sc4,s_v2_sc4,s_t_2d_sc4])\n",
    "ui.layout.justify_content = 'space-around'\n",
    "\n",
    "def f4(f_lamn,f_y,f_x0,f_v2,f_t_2d):\n",
    "    # Default values (lamn=-0.5e-3,y=2e3,xp=0.0,yp=0.0,x0=-3e3,v1=-2e4,v2=1e5,lamp=None,duration=None,st=None,step_2d=0.03,t_2d_coef=1)\n",
    "    # By default lamp is obtained assumin zero net charge on the leader, duration is equal to time needed for \n",
    "    # negative leader to reach the (0,0) coordinate multiplied by two and default step is duration/1000\n",
    "    # Default values can be changed and will be overwritten if used in function below, e.g:\n",
    "    #scenarios.sc_1(lamn=f_lamn*1e-3,y=f_y*1e3,x0=f_x0*1e3,v1=f_v1*1e4,v2=f_v2*1e5,lamp=2e-3,duration=30e-3,st=0.002) \n",
    "    \n",
    "    scenario_4.sc_4(lamn=f_lamn*1e-3,y=f_y*1e3,x0=f_x0*1e3,v2=f_v2*1e5,t_2d_coef=f_t_2d/100)\n",
    "\n",
    "out = widgets.interactive_output(f4, {'f_lamn': s_lamn_sc4, 'f_y': s_y_sc4, 'f_x0': s_x0_sc4,'f_v2': s_v2_sc4,'f_t_2d':s_t_2d_sc4})\n",
    "\n",
    "display(ui, out)\n"
   ]
  },
  {
   "cell_type": "code",
   "execution_count": null,
   "metadata": {},
   "outputs": [],
   "source": []
  }
 ],
 "metadata": {
  "kernelspec": {
   "display_name": "Python [conda env:ada]",
   "language": "python",
   "name": "conda-env-ada-py"
  },
  "language_info": {
   "codemirror_mode": {
    "name": "ipython",
    "version": 3
   },
   "file_extension": ".py",
   "mimetype": "text/x-python",
   "name": "python",
   "nbconvert_exporter": "python",
   "pygments_lexer": "ipython3",
   "version": "3.8.5"
  }
 },
 "nbformat": 4,
 "nbformat_minor": 4
}
